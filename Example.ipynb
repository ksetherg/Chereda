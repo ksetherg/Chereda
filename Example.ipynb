{
 "cells": [
  {
   "cell_type": "code",
   "execution_count": 1,
   "metadata": {},
   "outputs": [],
   "source": [
    "%load_ext autoreload\n",
    "%autoreload 2\n",
    "from potok.core import Data, DataUnit, DataLayer, ApplyToDataUnit, Node, Layer, Pipeline\n",
    "from potok.tabular import TabularData, Folder, Validation, LightGBM"
   ]
  },
  {
   "cell_type": "code",
   "execution_count": 2,
   "metadata": {},
   "outputs": [],
   "source": [
    "import numpy as np\n",
    "import pandas as pd\n"
   ]
  },
  {
   "cell_type": "code",
   "execution_count": 3,
   "metadata": {},
   "outputs": [
    {
     "name": "stderr",
     "output_type": "stream",
     "text": [
      "2021-05-04 18:28:28,353\tINFO services.py:1262 -- View the Ray dashboard at \u001b[1m\u001b[32mhttp://127.0.0.1:8265\u001b[39m\u001b[22m\n"
     ]
    },
    {
     "data": {
      "text/plain": [
       "{'node_ip_address': '192.168.0.103',\n",
       " 'raylet_ip_address': '192.168.0.103',\n",
       " 'redis_address': '192.168.0.103:6379',\n",
       " 'object_store_address': '/tmp/ray/session_2021-05-04_18-28-27_292736_518076/sockets/plasma_store',\n",
       " 'raylet_socket_name': '/tmp/ray/session_2021-05-04_18-28-27_292736_518076/sockets/raylet',\n",
       " 'webui_url': '127.0.0.1:8265',\n",
       " 'session_dir': '/tmp/ray/session_2021-05-04_18-28-27_292736_518076',\n",
       " 'metrics_export_port': 59599,\n",
       " 'node_id': '9405a46e3ddacf4322a414bb2958f070f218c4e34d7d38f58e91e2dc'}"
      ]
     },
     "execution_count": 3,
     "metadata": {},
     "output_type": "execute_result"
    }
   ],
   "source": [
    "import ray\n",
    "ray.init(num_cpus=8)"
   ]
  },
  {
   "cell_type": "code",
   "execution_count": 4,
   "metadata": {},
   "outputs": [],
   "source": [
    "import scipy.stats as sst\n",
    "\n",
    "class SyntheticData:\n",
    "    \"\"\"\n",
    "    Example:\n",
    "    import scipy.stats as sst\n",
    "    gene = SyntheticData(sst.norm(loc=0, scale=2), sst.norm(loc=1, scale=3), np.square)\n",
    "    gene.create_train()\n",
    "    gene.create_test()\n",
    "    \"\"\"\n",
    "    def __init__(self, pdf_train, pdf_test, target_f, seed=None):\n",
    "        self.pdf_train = pdf_train\n",
    "        self.pdf_test = pdf_test\n",
    "        self.target_f = target_f\n",
    "        self.seed = seed\n",
    "    \n",
    "    def _create_sample_(self, pdf, size, noize_sigma=None):\n",
    "        X = pdf.rvs(size=size, random_state=self.seed)\n",
    "        y = self.target_f(X)\n",
    "        \n",
    "        if noize_sigma is not None:\n",
    "            y_noize = np.random.normal(0, noize_sigma, size)\n",
    "            y += y_noize\n",
    "            \n",
    "        df = pd.DataFrame({'X': X, 'Target': y}, index=list(range(size)))\n",
    "        \n",
    "        return df\n",
    "        \n",
    "    def create_train(self, size=1000000, noize_sigma=0.5):\n",
    "        df_train = self._create_sample_(self.pdf_train, size, noize_sigma)\n",
    "        return TabularData(df_train, target=['Target'])\n",
    "        \n",
    "    def create_test(self, size=100000, noize_sigma=None):\n",
    "        data_test = self._create_sample_(self.pdf_test, size, noize_sigma)\n",
    "        return TabularData(data_test, target=['Target'])"
   ]
  },
  {
   "cell_type": "code",
   "execution_count": 5,
   "metadata": {},
   "outputs": [],
   "source": [
    "gene = SyntheticData(sst.norm(loc=0, scale=2), sst.norm(loc=1, scale=3), np.square)\n",
    "train = gene.create_train()\n",
    "test = gene.create_test()"
   ]
  },
  {
   "cell_type": "code",
   "execution_count": null,
   "metadata": {},
   "outputs": [],
   "source": []
  },
  {
   "cell_type": "code",
   "execution_count": 6,
   "metadata": {},
   "outputs": [],
   "source": [
    "data = DataUnit(train=train, test=test)"
   ]
  },
  {
   "cell_type": "code",
   "execution_count": 7,
   "metadata": {},
   "outputs": [],
   "source": [
    "f = Folder(n_folds=4)"
   ]
  },
  {
   "cell_type": "code",
   "execution_count": 8,
   "metadata": {},
   "outputs": [],
   "source": [
    "valid = Validation(f)"
   ]
  },
  {
   "cell_type": "code",
   "execution_count": 9,
   "metadata": {},
   "outputs": [],
   "source": [
    "algo = LightGBM(target='Target', features=['X'])"
   ]
  },
  {
   "cell_type": "code",
   "execution_count": 10,
   "metadata": {},
   "outputs": [],
   "source": [
    "model = Pipeline(valid, algo)"
   ]
  },
  {
   "cell_type": "code",
   "execution_count": 11,
   "metadata": {},
   "outputs": [],
   "source": [
    "x = DataLayer(data.X)\n",
    "y = DataLayer(data.Y)"
   ]
  },
  {
   "cell_type": "code",
   "execution_count": null,
   "metadata": {
    "scrolled": false
   },
   "outputs": [
    {
     "name": "stdout",
     "output_type": "stream",
     "text": [
      "\u001b[2m\u001b[36m(pid=518260)\u001b[0m Training Model LightGBM\n",
      "\u001b[2m\u001b[36m(pid=518260)\u001b[0m X_train = (750000, 1) y_train = (750000,)\n",
      "\u001b[2m\u001b[36m(pid=518260)\u001b[0m X_valid = (250000, 1) y_valid = (250000,)\n",
      "\u001b[2m\u001b[36m(pid=518260)\u001b[0m Training until validation scores don't improve for 50 rounds\n",
      "\u001b[2m\u001b[36m(pid=518256)\u001b[0m Training Model LightGBM\n",
      "\u001b[2m\u001b[36m(pid=518256)\u001b[0m X_train = (750000, 1) y_train = (750000,)\n",
      "\u001b[2m\u001b[36m(pid=518256)\u001b[0m X_valid = (250000, 1) y_valid = (250000,)\n",
      "\u001b[2m\u001b[36m(pid=518261)\u001b[0m Training Model LightGBM\n",
      "\u001b[2m\u001b[36m(pid=518261)\u001b[0m X_train = (750000, 1) y_train = (750000,)\n",
      "\u001b[2m\u001b[36m(pid=518261)\u001b[0m X_valid = (250000, 1) y_valid = (250000,)\n",
      "\u001b[2m\u001b[36m(pid=518262)\u001b[0m Training Model LightGBM\n",
      "\u001b[2m\u001b[36m(pid=518262)\u001b[0m X_train = (750000, 1) y_train = (750000,)\n",
      "\u001b[2m\u001b[36m(pid=518262)\u001b[0m X_valid = (250000, 1) y_valid = (250000,)\n",
      "\u001b[2m\u001b[36m(pid=518261)\u001b[0m Training until validation scores don't improve for 50 rounds\n",
      "\u001b[2m\u001b[36m(pid=518256)\u001b[0m Training until validation scores don't improve for 50 rounds\n",
      "\u001b[2m\u001b[36m(pid=518262)\u001b[0m Training until validation scores don't improve for 50 rounds\n",
      "\u001b[2m\u001b[36m(pid=518256)\u001b[0m [100]\tvalid_0's l2: 0.776255\n",
      "\u001b[2m\u001b[36m(pid=518262)\u001b[0m [100]\tvalid_0's l2: 0.777705\n"
     ]
    }
   ],
   "source": [
    "%%prun\n",
    "yy = model.fit_predict(x, y)"
   ]
  },
  {
   "cell_type": "code",
   "execution_count": null,
   "metadata": {
    "scrolled": false
   },
   "outputs": [],
   "source": [
    "77.522 seconds"
   ]
  }
 ],
 "metadata": {
  "kernelspec": {
   "display_name": "Python 3",
   "language": "python",
   "name": "python3"
  },
  "language_info": {
   "codemirror_mode": {
    "name": "ipython",
    "version": 3
   },
   "file_extension": ".py",
   "mimetype": "text/x-python",
   "name": "python",
   "nbconvert_exporter": "python",
   "pygments_lexer": "ipython3",
   "version": "3.8.5"
  }
 },
 "nbformat": 4,
 "nbformat_minor": 4
}
